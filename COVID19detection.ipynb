{
  "nbformat": 4,
  "nbformat_minor": 0,
  "metadata": {
    "colab": {
      "name": "COVID19detection.ipynb",
      "provenance": [],
      "authorship_tag": "ABX9TyPsX4x8HSaYjPL40qpsUWMR",
      "include_colab_link": true
    },
    "kernelspec": {
      "name": "python3",
      "display_name": "Python 3"
    },
    "language_info": {
      "name": "python"
    }
  },
  "cells": [
    {
      "cell_type": "markdown",
      "metadata": {
        "id": "view-in-github",
        "colab_type": "text"
      },
      "source": [
        "<a href=\"https://colab.research.google.com/github/Hypha5/COVID19_detection/blob/main/COVID19detection.ipynb\" target=\"_parent\"><img src=\"https://colab.research.google.com/assets/colab-badge.svg\" alt=\"Open In Colab\"/></a>"
      ]
    },
    {
      "cell_type": "code",
      "execution_count": null,
      "metadata": {
        "id": "pvS4GWB9lUFO"
      },
      "outputs": [],
      "source": [
        ""
      ]
    },
    {
      "cell_type": "code",
      "source": [
        "from google.colab import drive\n",
        "drive.mount('/content/drive')"
      ],
      "metadata": {
        "colab": {
          "base_uri": "https://localhost:8080/"
        },
        "id": "Fbnfu06tlXGA",
        "outputId": "17a41938-367e-4c18-87ee-9932b222c652"
      },
      "execution_count": null,
      "outputs": [
        {
          "output_type": "stream",
          "name": "stdout",
          "text": [
            "Mounted at /content/drive\n"
          ]
        }
      ]
    },
    {
      "cell_type": "code",
      "source": [
        "! pip install tensorflow --upgrade\n",
        "import os\n",
        "import pandas as pd\n",
        "import numpy as np\n",
        "from tqdm import tqdm\n",
        "import keras\n",
        "from keras.utils.np_utils import to_categorical\n",
        "import cv2\n",
        "import tensorflow as tf\n",
        "from sklearn.model_selection import train_test_split\n",
        "from keras.layers import  Flatten, Dense, Dropout\n",
        "from keras.callbacks import ModelCheckpoint, ReduceLROnPlateau\n",
        "from keras.applications import Xception\n",
        "from keras.models import Model\n",
        "from keras.layers import Input\n",
        "from keras import optimizers\n",
        "from keras.optimizers import Adam\n",
        "from keras.layers import Dense, GlobalAveragePooling2D\n",
        "from keras.layers import Dense, Dropout, Flatten, Conv2D, MaxPool2D, BatchNormalization, AveragePooling2D, GlobalAveragePooling2D\n",
        "import keras_preprocessing\n",
        "from keras_preprocessing import image\n",
        "from keras_preprocessing.image import ImageDataGenerator\n",
        "from keras import callbacks\n",
        "import matplotlib.pyplot as plt\n",
        "from sklearn.metrics import confusion_matrix\n",
        "import seaborn as sns"
      ],
      "metadata": {
        "colab": {
          "base_uri": "https://localhost:8080/"
        },
        "id": "CxbSLlmxl3YH",
        "outputId": "cd8ddb2b-586f-4887-8125-1c68535c8dc1"
      },
      "execution_count": null,
      "outputs": [
        {
          "output_type": "stream",
          "name": "stdout",
          "text": [
            "Looking in indexes: https://pypi.org/simple, https://us-python.pkg.dev/colab-wheels/public/simple/\n",
            "Requirement already satisfied: tensorflow in /usr/local/lib/python3.7/dist-packages (2.9.1)\n",
            "Requirement already satisfied: keras-preprocessing>=1.1.1 in /usr/local/lib/python3.7/dist-packages (from tensorflow) (1.1.2)\n",
            "Requirement already satisfied: six>=1.12.0 in /usr/local/lib/python3.7/dist-packages (from tensorflow) (1.15.0)\n",
            "Requirement already satisfied: astunparse>=1.6.0 in /usr/local/lib/python3.7/dist-packages (from tensorflow) (1.6.3)\n",
            "Requirement already satisfied: setuptools in /usr/local/lib/python3.7/dist-packages (from tensorflow) (57.4.0)\n",
            "Requirement already satisfied: protobuf<3.20,>=3.9.2 in /usr/local/lib/python3.7/dist-packages (from tensorflow) (3.17.3)\n",
            "Requirement already satisfied: flatbuffers<2,>=1.12 in /usr/local/lib/python3.7/dist-packages (from tensorflow) (1.12)\n",
            "Requirement already satisfied: keras<2.10.0,>=2.9.0rc0 in /usr/local/lib/python3.7/dist-packages (from tensorflow) (2.9.0)\n",
            "Requirement already satisfied: h5py>=2.9.0 in /usr/local/lib/python3.7/dist-packages (from tensorflow) (3.1.0)\n",
            "Requirement already satisfied: numpy>=1.20 in /usr/local/lib/python3.7/dist-packages (from tensorflow) (1.21.6)\n",
            "Requirement already satisfied: google-pasta>=0.1.1 in /usr/local/lib/python3.7/dist-packages (from tensorflow) (0.2.0)\n",
            "Requirement already satisfied: typing-extensions>=3.6.6 in /usr/local/lib/python3.7/dist-packages (from tensorflow) (4.1.1)\n",
            "Requirement already satisfied: opt-einsum>=2.3.2 in /usr/local/lib/python3.7/dist-packages (from tensorflow) (3.3.0)\n",
            "Requirement already satisfied: termcolor>=1.1.0 in /usr/local/lib/python3.7/dist-packages (from tensorflow) (1.1.0)\n",
            "Requirement already satisfied: wrapt>=1.11.0 in /usr/local/lib/python3.7/dist-packages (from tensorflow) (1.14.1)\n",
            "Requirement already satisfied: tensorflow-estimator<2.10.0,>=2.9.0rc0 in /usr/local/lib/python3.7/dist-packages (from tensorflow) (2.9.0)\n",
            "Requirement already satisfied: libclang>=13.0.0 in /usr/local/lib/python3.7/dist-packages (from tensorflow) (14.0.6)\n",
            "Requirement already satisfied: packaging in /usr/local/lib/python3.7/dist-packages (from tensorflow) (21.3)\n",
            "Requirement already satisfied: grpcio<2.0,>=1.24.3 in /usr/local/lib/python3.7/dist-packages (from tensorflow) (1.47.0)\n",
            "Requirement already satisfied: gast<=0.4.0,>=0.2.1 in /usr/local/lib/python3.7/dist-packages (from tensorflow) (0.4.0)\n",
            "Requirement already satisfied: absl-py>=1.0.0 in /usr/local/lib/python3.7/dist-packages (from tensorflow) (1.2.0)\n",
            "Requirement already satisfied: tensorboard<2.10,>=2.9 in /usr/local/lib/python3.7/dist-packages (from tensorflow) (2.9.1)\n",
            "Requirement already satisfied: tensorflow-io-gcs-filesystem>=0.23.1 in /usr/local/lib/python3.7/dist-packages (from tensorflow) (0.26.0)\n",
            "Requirement already satisfied: wheel<1.0,>=0.23.0 in /usr/local/lib/python3.7/dist-packages (from astunparse>=1.6.0->tensorflow) (0.37.1)\n",
            "Requirement already satisfied: cached-property in /usr/local/lib/python3.7/dist-packages (from h5py>=2.9.0->tensorflow) (1.5.2)\n",
            "Requirement already satisfied: markdown>=2.6.8 in /usr/local/lib/python3.7/dist-packages (from tensorboard<2.10,>=2.9->tensorflow) (3.4.1)\n",
            "Requirement already satisfied: tensorboard-data-server<0.7.0,>=0.6.0 in /usr/local/lib/python3.7/dist-packages (from tensorboard<2.10,>=2.9->tensorflow) (0.6.1)\n",
            "Requirement already satisfied: requests<3,>=2.21.0 in /usr/local/lib/python3.7/dist-packages (from tensorboard<2.10,>=2.9->tensorflow) (2.23.0)\n",
            "Requirement already satisfied: werkzeug>=1.0.1 in /usr/local/lib/python3.7/dist-packages (from tensorboard<2.10,>=2.9->tensorflow) (1.0.1)\n",
            "Requirement already satisfied: google-auth-oauthlib<0.5,>=0.4.1 in /usr/local/lib/python3.7/dist-packages (from tensorboard<2.10,>=2.9->tensorflow) (0.4.6)\n",
            "Requirement already satisfied: google-auth<3,>=1.6.3 in /usr/local/lib/python3.7/dist-packages (from tensorboard<2.10,>=2.9->tensorflow) (1.35.0)\n",
            "Requirement already satisfied: tensorboard-plugin-wit>=1.6.0 in /usr/local/lib/python3.7/dist-packages (from tensorboard<2.10,>=2.9->tensorflow) (1.8.1)\n",
            "Requirement already satisfied: pyasn1-modules>=0.2.1 in /usr/local/lib/python3.7/dist-packages (from google-auth<3,>=1.6.3->tensorboard<2.10,>=2.9->tensorflow) (0.2.8)\n",
            "Requirement already satisfied: cachetools<5.0,>=2.0.0 in /usr/local/lib/python3.7/dist-packages (from google-auth<3,>=1.6.3->tensorboard<2.10,>=2.9->tensorflow) (4.2.4)\n",
            "Requirement already satisfied: rsa<5,>=3.1.4 in /usr/local/lib/python3.7/dist-packages (from google-auth<3,>=1.6.3->tensorboard<2.10,>=2.9->tensorflow) (4.9)\n",
            "Requirement already satisfied: requests-oauthlib>=0.7.0 in /usr/local/lib/python3.7/dist-packages (from google-auth-oauthlib<0.5,>=0.4.1->tensorboard<2.10,>=2.9->tensorflow) (1.3.1)\n",
            "Requirement already satisfied: importlib-metadata>=4.4 in /usr/local/lib/python3.7/dist-packages (from markdown>=2.6.8->tensorboard<2.10,>=2.9->tensorflow) (4.12.0)\n",
            "Requirement already satisfied: zipp>=0.5 in /usr/local/lib/python3.7/dist-packages (from importlib-metadata>=4.4->markdown>=2.6.8->tensorboard<2.10,>=2.9->tensorflow) (3.8.1)\n",
            "Requirement already satisfied: pyasn1<0.5.0,>=0.4.6 in /usr/local/lib/python3.7/dist-packages (from pyasn1-modules>=0.2.1->google-auth<3,>=1.6.3->tensorboard<2.10,>=2.9->tensorflow) (0.4.8)\n",
            "Requirement already satisfied: urllib3!=1.25.0,!=1.25.1,<1.26,>=1.21.1 in /usr/local/lib/python3.7/dist-packages (from requests<3,>=2.21.0->tensorboard<2.10,>=2.9->tensorflow) (1.24.3)\n",
            "Requirement already satisfied: chardet<4,>=3.0.2 in /usr/local/lib/python3.7/dist-packages (from requests<3,>=2.21.0->tensorboard<2.10,>=2.9->tensorflow) (3.0.4)\n",
            "Requirement already satisfied: idna<3,>=2.5 in /usr/local/lib/python3.7/dist-packages (from requests<3,>=2.21.0->tensorboard<2.10,>=2.9->tensorflow) (2.10)\n",
            "Requirement already satisfied: certifi>=2017.4.17 in /usr/local/lib/python3.7/dist-packages (from requests<3,>=2.21.0->tensorboard<2.10,>=2.9->tensorflow) (2022.6.15)\n",
            "Requirement already satisfied: oauthlib>=3.0.0 in /usr/local/lib/python3.7/dist-packages (from requests-oauthlib>=0.7.0->google-auth-oauthlib<0.5,>=0.4.1->tensorboard<2.10,>=2.9->tensorflow) (3.2.0)\n",
            "Requirement already satisfied: pyparsing!=3.0.5,>=2.0.2 in /usr/local/lib/python3.7/dist-packages (from packaging->tensorflow) (3.0.9)\n"
          ]
        }
      ]
    },
    {
      "cell_type": "code",
      "source": [
        "%tensorflow_version 2.x\n",
        "print(tf.__version__)\n",
        "print(tf.test.gpu_device_name())\n",
        "print(\"Num GPUs Available: \", len(tf.config.experimental.list_physical_devices('GPU')))"
      ],
      "metadata": {
        "colab": {
          "base_uri": "https://localhost:8080/"
        },
        "id": "228_D3ebwsxg",
        "outputId": "5d407268-18a5-45f5-da4d-ae225c12790d"
      },
      "execution_count": null,
      "outputs": [
        {
          "output_type": "stream",
          "name": "stdout",
          "text": [
            "Colab only includes TensorFlow 2.x; %tensorflow_version has no effect.\n",
            "2.9.1\n",
            "\n",
            "Num GPUs Available:  0\n"
          ]
        }
      ]
    },
    {
      "cell_type": "code",
      "source": [
        "%cd /content/drive/\"My Drive\"/\"archive\""
      ],
      "metadata": {
        "colab": {
          "base_uri": "https://localhost:8080/"
        },
        "id": "mtar_Qq6ww5a",
        "outputId": "0e10b63a-5130-49e7-a23b-f770646d2071"
      },
      "execution_count": null,
      "outputs": [
        {
          "output_type": "stream",
          "name": "stdout",
          "text": [
            "/content/drive/My Drive/archive\n"
          ]
        }
      ]
    },
    {
      "cell_type": "code",
      "source": [
        "os.environ['KAGGLE_CONFIG_DIR'] = \"/content/drive/MyDrive/archive\"\n",
        "!kaggle datasets download -d plameneduardo/sarscov2-ctscan-dataset\n",
        "!unzip \\*.zip  && rm *.zip"
      ],
      "metadata": {
        "colab": {
          "base_uri": "https://localhost:8080/"
        },
        "id": "kVOXCX6ExsHD",
        "outputId": "deac4f65-ad64-4f92-a731-ed82b76dad48"
      },
      "execution_count": null,
      "outputs": [
        {
          "output_type": "stream",
          "name": "stdout",
          "text": [
            "Traceback (most recent call last):\n",
            "  File \"/usr/local/bin/kaggle\", line 5, in <module>\n",
            "    from kaggle.cli import main\n",
            "  File \"/usr/local/lib/python3.7/dist-packages/kaggle/__init__.py\", line 23, in <module>\n",
            "    api.authenticate()\n",
            "  File \"/usr/local/lib/python3.7/dist-packages/kaggle/api/kaggle_api_extended.py\", line 166, in authenticate\n",
            "    self.config_file, self.config_dir))\n",
            "OSError: Could not find kaggle.json. Make sure it's located in /content/drive/MyDrive/archive. Or use the environment method.\n",
            "unzip:  cannot find or open *.zip, *.zip.zip or *.zip.ZIP.\n",
            "\n",
            "No zipfiles found.\n"
          ]
        }
      ]
    },
    {
      "cell_type": "code",
      "source": [
        "disease_types=['COVID', 'non-COVID']\n",
        "data_dir = '/content/drive/MyDrive/archive'\n",
        "train_dir = os.path.join(data_dir)"
      ],
      "metadata": {
        "id": "By4p5TSjx9zk"
      },
      "execution_count": null,
      "outputs": []
    },
    {
      "cell_type": "code",
      "source": [
        "train_data = []\n",
        "for defects_id, sp in enumerate(disease_types):\n",
        "    for file in os.listdir(os.path.join(train_dir, sp)):\n",
        "        train_data.append(['{}/{}'.format(sp, file), defects_id, sp])      \n",
        "train = pd.DataFrame(train_data, columns=['File', 'DiseaseID','Disease Type'])\n"
      ],
      "metadata": {
        "id": "nuxQcy4NyS8i"
      },
      "execution_count": null,
      "outputs": []
    },
    {
      "cell_type": "code",
      "source": [
        "IMAGE_SIZE = 64\n",
        "def read_image(filepath):\n",
        "    return cv2.imread(os.path.join(data_dir, filepath)) \n",
        "def resize_image(image, image_size):\n",
        "    return cv2.resize(image.copy(), image_size, interpolation=cv2.INTER_AREA)"
      ],
      "metadata": {
        "id": "6rSnMvJWy6zs"
      },
      "execution_count": null,
      "outputs": []
    },
    {
      "cell_type": "code",
      "source": [
        "X_train = np.zeros((train.shape[0], IMAGE_SIZE, IMAGE_SIZE, 3))\n",
        "for i, file in tqdm(enumerate(train['File'].values)):\n",
        "    image = read_image(file)\n",
        "    if image is not None:\n",
        "        X_train[i] = resize_image(image, (IMAGE_SIZE, IMAGE_SIZE))\n",
        "X_Train = X_train / 255.\n",
        "print(X_Train.shape)"
      ],
      "metadata": {
        "colab": {
          "base_uri": "https://localhost:8080/"
        },
        "id": "TlYHiJyly_eZ",
        "outputId": "31ab8fa9-1155-4010-d628-82f29f08e915"
      },
      "execution_count": null,
      "outputs": [
        {
          "output_type": "stream",
          "name": "stderr",
          "text": [
            "2481it [10:54,  3.79it/s]"
          ]
        },
        {
          "output_type": "stream",
          "name": "stdout",
          "text": [
            "(2481, 64, 64, 3)\n"
          ]
        },
        {
          "output_type": "stream",
          "name": "stderr",
          "text": [
            "\n"
          ]
        }
      ]
    },
    {
      "cell_type": "code",
      "source": [
        "Y_train = train['DiseaseID'].values\n",
        "Y_train = to_categorical(Y_train, num_classes=2)"
      ],
      "metadata": {
        "id": "b_quzFHVzPOI"
      },
      "execution_count": null,
      "outputs": []
    },
    {
      "cell_type": "code",
      "source": [
        "X_train, X_val, Y_train, Y_val = train_test_split(X_Train, Y_train, test_size=0.2, random_state = 42)"
      ],
      "metadata": {
        "id": "gVOnVIDb1wl2"
      },
      "execution_count": null,
      "outputs": []
    },
    {
      "cell_type": "code",
      "source": [
        "BATCH_SIZE = 64\n",
        "EPOCHS = 100\n",
        "SIZE=64\n",
        "N_ch=3"
      ],
      "metadata": {
        "id": "2JR_CIKJ10p9"
      },
      "execution_count": null,
      "outputs": []
    },
    {
      "cell_type": "code",
      "source": [
        "def build_Xception():\n",
        "    xception = Xception(weights='imagenet', include_top=False)\n",
        "\n",
        "    input = Input(shape=(SIZE, SIZE, N_ch))\n",
        "    x = Conv2D(3, (3, 3), padding='same')(input)\n",
        "    \n",
        "    x = xception(x)\n",
        "    \n",
        "    x = GlobalAveragePooling2D()(x)\n",
        "    x = BatchNormalization()(x)\n",
        "    x = Dropout(0.5)(x)\n",
        "    x = Dense(256, activation='relu')(x)\n",
        "    x = BatchNormalization()(x)\n",
        "    x = Dropout(0.5)(x)\n",
        "\n",
        "    # multi output\n",
        "    output = Dense(2,activation = 'softmax', name='root')(x)\n",
        " \n",
        "\n",
        "    # model\n",
        "    model = Model(input,output)\n",
        "    \n",
        "    optimizer = Adam(lr=0.003, beta_1=0.9, beta_2=0.999, epsilon=0.1, decay=0.0)\n",
        "    model.compile(loss='categorical_crossentropy', optimizer=optimizer, metrics=['accuracy'])\n",
        "    model.summary()\n",
        "    \n",
        "    return model"
      ],
      "metadata": {
        "id": "Q013IbS815P9"
      },
      "execution_count": null,
      "outputs": []
    },
    {
      "cell_type": "code",
      "source": [
        "model = build_Xception()\n",
        "annealer = ReduceLROnPlateau(monitor='val_accuracy', factor=0.70, patience=5, verbose=1, min_lr=1e-4)\n",
        "checkpoint = ModelCheckpoint('Xception_Model.hdf5', verbose=1, save_best_only=True)\n",
        "datagen = ImageDataGenerator(rotation_range=360, \n",
        "                        width_shift_range=0.2, \n",
        "                        height_shift_range=0.2,\n",
        "                        zoom_range=0.2, \n",
        "                        horizontal_flip=True, \n",
        "                        vertical_flip=True) \n",
        "\n",
        "datagen.fit(X_train)"
      ],
      "metadata": {
        "colab": {
          "base_uri": "https://localhost:8080/"
        },
        "id": "nStHnzCE1-bK",
        "outputId": "b51491db-90eb-4af9-b109-3863a52ae264"
      },
      "execution_count": null,
      "outputs": [
        {
          "output_type": "stream",
          "name": "stdout",
          "text": [
            "Downloading data from https://storage.googleapis.com/tensorflow/keras-applications/xception/xception_weights_tf_dim_ordering_tf_kernels_notop.h5\n",
            "83683744/83683744 [==============================] - 1s 0us/step\n",
            "Model: \"model\"\n",
            "_________________________________________________________________\n",
            " Layer (type)                Output Shape              Param #   \n",
            "=================================================================\n",
            " input_2 (InputLayer)        [(None, 64, 64, 3)]       0         \n",
            "                                                                 \n",
            " conv2d_4 (Conv2D)           (None, 64, 64, 3)         84        \n",
            "                                                                 \n",
            " xception (Functional)       (None, None, None, 2048)  20861480  \n",
            "                                                                 \n",
            " global_average_pooling2d (G  (None, 2048)             0         \n",
            " lobalAveragePooling2D)                                          \n",
            "                                                                 \n",
            " batch_normalization_4 (Batc  (None, 2048)             8192      \n",
            " hNormalization)                                                 \n",
            "                                                                 \n",
            " dropout (Dropout)           (None, 2048)              0         \n",
            "                                                                 \n",
            " dense (Dense)               (None, 256)               524544    \n",
            "                                                                 \n",
            " batch_normalization_5 (Batc  (None, 256)              1024      \n",
            " hNormalization)                                                 \n",
            "                                                                 \n",
            " dropout_1 (Dropout)         (None, 256)               0         \n",
            "                                                                 \n",
            " root (Dense)                (None, 2)                 514       \n",
            "                                                                 \n",
            "=================================================================\n",
            "Total params: 21,395,838\n",
            "Trainable params: 21,336,702\n",
            "Non-trainable params: 59,136\n",
            "_________________________________________________________________\n"
          ]
        },
        {
          "output_type": "stream",
          "name": "stderr",
          "text": [
            "/usr/local/lib/python3.7/dist-packages/keras/optimizers/optimizer_v2/adam.py:110: UserWarning: The `lr` argument is deprecated, use `learning_rate` instead.\n",
            "  super(Adam, self).__init__(name, **kwargs)\n"
          ]
        }
      ]
    },
    {
      "cell_type": "code",
      "source": [
        "history = model.fit_generator(datagen.flow(X_train, Y_train, batch_size=BATCH_SIZE),\n",
        "               steps_per_epoch=X_train.shape[0] // BATCH_SIZE,\n",
        "               epochs=EPOCHS,\n",
        "               verbose=1,\n",
        "               callbacks=[annealer, checkpoint],\n",
        "               validation_data=(X_val, Y_val))"
      ],
      "metadata": {
        "colab": {
          "base_uri": "https://localhost:8080/"
        },
        "id": "qtAlHWbq2FP2",
        "outputId": "307722a4-9721-4812-96a5-8390c20a83b5"
      },
      "execution_count": null,
      "outputs": [
        {
          "output_type": "stream",
          "name": "stderr",
          "text": [
            "/usr/local/lib/python3.7/dist-packages/ipykernel_launcher.py:6: UserWarning: `Model.fit_generator` is deprecated and will be removed in a future version. Please use `Model.fit`, which supports generators.\n",
            "  \n"
          ]
        },
        {
          "output_type": "stream",
          "name": "stdout",
          "text": [
            "Epoch 1/100\n",
            "31/31 [==============================] - ETA: 0s - loss: 1.2334 - accuracy: 0.4894\n",
            "Epoch 1: val_loss improved from inf to 0.69404, saving model to Xception_Model.hdf5\n",
            "31/31 [==============================] - 288s 9s/step - loss: 1.2334 - accuracy: 0.4894 - val_loss: 0.6940 - val_accuracy: 0.5010 - lr: 0.0030\n",
            "Epoch 2/100\n",
            "31/31 [==============================] - ETA: 0s - loss: 1.0874 - accuracy: 0.5307\n",
            "Epoch 2: val_loss did not improve from 0.69404\n",
            "31/31 [==============================] - 273s 9s/step - loss: 1.0874 - accuracy: 0.5307 - val_loss: 0.6944 - val_accuracy: 0.5111 - lr: 0.0030\n",
            "Epoch 3/100\n",
            "31/31 [==============================] - ETA: 0s - loss: 1.0013 - accuracy: 0.5408\n",
            "Epoch 3: val_loss improved from 0.69404 to 0.68885, saving model to Xception_Model.hdf5\n",
            "31/31 [==============================] - 280s 9s/step - loss: 1.0013 - accuracy: 0.5408 - val_loss: 0.6889 - val_accuracy: 0.5553 - lr: 0.0030\n",
            "Epoch 4/100\n",
            "31/31 [==============================] - ETA: 0s - loss: 0.9209 - accuracy: 0.5489\n",
            "Epoch 4: val_loss improved from 0.68885 to 0.65975, saving model to Xception_Model.hdf5\n",
            "31/31 [==============================] - 285s 9s/step - loss: 0.9209 - accuracy: 0.5489 - val_loss: 0.6598 - val_accuracy: 0.6076 - lr: 0.0030\n",
            "Epoch 5/100\n",
            "31/31 [==============================] - ETA: 0s - loss: 0.8646 - accuracy: 0.5696\n",
            "Epoch 5: val_loss improved from 0.65975 to 0.65350, saving model to Xception_Model.hdf5\n",
            "31/31 [==============================] - 278s 9s/step - loss: 0.8646 - accuracy: 0.5696 - val_loss: 0.6535 - val_accuracy: 0.6076 - lr: 0.0030\n",
            "Epoch 6/100\n",
            "31/31 [==============================] - ETA: 0s - loss: 0.7974 - accuracy: 0.5670\n",
            "Epoch 6: val_loss improved from 0.65350 to 0.63642, saving model to Xception_Model.hdf5\n",
            "31/31 [==============================] - 281s 9s/step - loss: 0.7974 - accuracy: 0.5670 - val_loss: 0.6364 - val_accuracy: 0.6459 - lr: 0.0030\n",
            "Epoch 7/100\n",
            "31/31 [==============================] - ETA: 0s - loss: 0.7278 - accuracy: 0.5927\n",
            "Epoch 7: val_loss improved from 0.63642 to 0.60892, saving model to Xception_Model.hdf5\n",
            "31/31 [==============================] - 278s 9s/step - loss: 0.7278 - accuracy: 0.5927 - val_loss: 0.6089 - val_accuracy: 0.6922 - lr: 0.0030\n",
            "Epoch 8/100\n",
            "31/31 [==============================] - ETA: 0s - loss: 0.6828 - accuracy: 0.6134\n",
            "Epoch 8: val_loss improved from 0.60892 to 0.60561, saving model to Xception_Model.hdf5\n",
            "31/31 [==============================] - 278s 9s/step - loss: 0.6828 - accuracy: 0.6134 - val_loss: 0.6056 - val_accuracy: 0.6660 - lr: 0.0030\n",
            "Epoch 9/100\n",
            "31/31 [==============================] - ETA: 0s - loss: 0.6722 - accuracy: 0.6139\n",
            "Epoch 9: val_loss improved from 0.60561 to 0.58320, saving model to Xception_Model.hdf5\n",
            "31/31 [==============================] - 281s 9s/step - loss: 0.6722 - accuracy: 0.6139 - val_loss: 0.5832 - val_accuracy: 0.6700 - lr: 0.0030\n",
            "Epoch 10/100\n",
            "31/31 [==============================] - ETA: 0s - loss: 0.6333 - accuracy: 0.6361\n",
            "Epoch 10: val_loss did not improve from 0.58320\n",
            "31/31 [==============================] - 280s 9s/step - loss: 0.6333 - accuracy: 0.6361 - val_loss: 0.6200 - val_accuracy: 0.6398 - lr: 0.0030\n",
            "Epoch 11/100\n",
            "31/31 [==============================] - ETA: 0s - loss: 0.6256 - accuracy: 0.6517\n",
            "Epoch 11: val_loss did not improve from 0.58320\n",
            "31/31 [==============================] - 279s 9s/step - loss: 0.6256 - accuracy: 0.6517 - val_loss: 0.6358 - val_accuracy: 0.6298 - lr: 0.0030\n",
            "Epoch 12/100\n",
            "31/31 [==============================] - ETA: 0s - loss: 0.5985 - accuracy: 0.6436\n",
            "Epoch 12: ReduceLROnPlateau reducing learning rate to 0.002100000018253922.\n",
            "\n",
            "Epoch 12: val_loss did not improve from 0.58320\n",
            "31/31 [==============================] - 278s 9s/step - loss: 0.5985 - accuracy: 0.6436 - val_loss: 0.6386 - val_accuracy: 0.6278 - lr: 0.0030\n",
            "Epoch 13/100\n",
            "31/31 [==============================] - ETA: 0s - loss: 0.5794 - accuracy: 0.6683\n",
            "Epoch 13: val_loss did not improve from 0.58320\n",
            "31/31 [==============================] - 280s 9s/step - loss: 0.5794 - accuracy: 0.6683 - val_loss: 0.6446 - val_accuracy: 0.6177 - lr: 0.0021\n",
            "Epoch 14/100\n",
            "31/31 [==============================] - ETA: 0s - loss: 0.5716 - accuracy: 0.6835\n",
            "Epoch 14: val_loss did not improve from 0.58320\n",
            "31/31 [==============================] - 278s 9s/step - loss: 0.5716 - accuracy: 0.6835 - val_loss: 0.6578 - val_accuracy: 0.6117 - lr: 0.0021\n",
            "Epoch 15/100\n",
            "31/31 [==============================] - ETA: 0s - loss: 0.5485 - accuracy: 0.6961\n",
            "Epoch 15: val_loss did not improve from 0.58320\n",
            "31/31 [==============================] - 277s 9s/step - loss: 0.5485 - accuracy: 0.6961 - val_loss: 0.6130 - val_accuracy: 0.6419 - lr: 0.0021\n",
            "Epoch 16/100\n",
            "31/31 [==============================] - ETA: 0s - loss: 0.5306 - accuracy: 0.7223\n",
            "Epoch 16: val_loss did not improve from 0.58320\n",
            "31/31 [==============================] - 277s 9s/step - loss: 0.5306 - accuracy: 0.7223 - val_loss: 0.5932 - val_accuracy: 0.6640 - lr: 0.0021\n",
            "Epoch 17/100\n",
            "31/31 [==============================] - ETA: 0s - loss: 0.5018 - accuracy: 0.7334\n",
            "Epoch 17: ReduceLROnPlateau reducing learning rate to 0.0014699999475851653.\n",
            "\n",
            "Epoch 17: val_loss improved from 0.58320 to 0.56081, saving model to Xception_Model.hdf5\n",
            "31/31 [==============================] - 282s 9s/step - loss: 0.5018 - accuracy: 0.7334 - val_loss: 0.5608 - val_accuracy: 0.6821 - lr: 0.0021\n",
            "Epoch 18/100\n",
            "31/31 [==============================] - ETA: 0s - loss: 0.4940 - accuracy: 0.7445\n",
            "Epoch 18: val_loss improved from 0.56081 to 0.53334, saving model to Xception_Model.hdf5\n",
            "31/31 [==============================] - 286s 9s/step - loss: 0.4940 - accuracy: 0.7445 - val_loss: 0.5333 - val_accuracy: 0.7103 - lr: 0.0015\n",
            "Epoch 19/100\n",
            "31/31 [==============================] - ETA: 0s - loss: 0.4915 - accuracy: 0.7576\n",
            "Epoch 19: val_loss improved from 0.53334 to 0.50025, saving model to Xception_Model.hdf5\n",
            "31/31 [==============================] - 281s 9s/step - loss: 0.4915 - accuracy: 0.7576 - val_loss: 0.5002 - val_accuracy: 0.7324 - lr: 0.0015\n",
            "Epoch 20/100\n",
            "31/31 [==============================] - ETA: 0s - loss: 0.4631 - accuracy: 0.7782\n",
            "Epoch 20: val_loss improved from 0.50025 to 0.46304, saving model to Xception_Model.hdf5\n",
            "31/31 [==============================] - 286s 9s/step - loss: 0.4631 - accuracy: 0.7782 - val_loss: 0.4630 - val_accuracy: 0.7726 - lr: 0.0015\n",
            "Epoch 21/100\n",
            "31/31 [==============================] - ETA: 0s - loss: 0.4612 - accuracy: 0.7792\n",
            "Epoch 21: val_loss improved from 0.46304 to 0.41951, saving model to Xception_Model.hdf5\n",
            "31/31 [==============================] - 286s 9s/step - loss: 0.4612 - accuracy: 0.7792 - val_loss: 0.4195 - val_accuracy: 0.8229 - lr: 0.0015\n",
            "Epoch 22/100\n",
            "31/31 [==============================] - ETA: 0s - loss: 0.4466 - accuracy: 0.7843\n",
            "Epoch 22: val_loss improved from 0.41951 to 0.40693, saving model to Xception_Model.hdf5\n",
            "31/31 [==============================] - 288s 9s/step - loss: 0.4466 - accuracy: 0.7843 - val_loss: 0.4069 - val_accuracy: 0.8169 - lr: 0.0015\n",
            "Epoch 23/100\n",
            "31/31 [==============================] - ETA: 0s - loss: 0.4277 - accuracy: 0.8019\n",
            "Epoch 23: val_loss improved from 0.40693 to 0.39379, saving model to Xception_Model.hdf5\n",
            "31/31 [==============================] - 293s 9s/step - loss: 0.4277 - accuracy: 0.8019 - val_loss: 0.3938 - val_accuracy: 0.8169 - lr: 0.0015\n",
            "Epoch 24/100\n",
            "31/31 [==============================] - ETA: 0s - loss: 0.4187 - accuracy: 0.8135\n",
            "Epoch 24: val_loss improved from 0.39379 to 0.36300, saving model to Xception_Model.hdf5\n",
            "31/31 [==============================] - 287s 9s/step - loss: 0.4187 - accuracy: 0.8135 - val_loss: 0.3630 - val_accuracy: 0.8551 - lr: 0.0015\n",
            "Epoch 25/100\n",
            "31/31 [==============================] - ETA: 0s - loss: 0.4123 - accuracy: 0.8070\n",
            "Epoch 25: val_loss improved from 0.36300 to 0.34922, saving model to Xception_Model.hdf5\n",
            "31/31 [==============================] - 294s 9s/step - loss: 0.4123 - accuracy: 0.8070 - val_loss: 0.3492 - val_accuracy: 0.8592 - lr: 0.0015\n",
            "Epoch 26/100\n",
            "31/31 [==============================] - ETA: 0s - loss: 0.4122 - accuracy: 0.8206\n",
            "Epoch 26: val_loss improved from 0.34922 to 0.33592, saving model to Xception_Model.hdf5\n",
            "31/31 [==============================] - 291s 9s/step - loss: 0.4122 - accuracy: 0.8206 - val_loss: 0.3359 - val_accuracy: 0.8672 - lr: 0.0015\n",
            "Epoch 27/100\n",
            "31/31 [==============================] - ETA: 0s - loss: 0.4090 - accuracy: 0.8196\n",
            "Epoch 27: val_loss improved from 0.33592 to 0.33296, saving model to Xception_Model.hdf5\n",
            "31/31 [==============================] - 290s 9s/step - loss: 0.4090 - accuracy: 0.8196 - val_loss: 0.3330 - val_accuracy: 0.8592 - lr: 0.0015\n",
            "Epoch 28/100\n",
            "31/31 [==============================] - ETA: 0s - loss: 0.4045 - accuracy: 0.8130\n",
            "Epoch 28: val_loss did not improve from 0.33296\n",
            "31/31 [==============================] - 286s 9s/step - loss: 0.4045 - accuracy: 0.8130 - val_loss: 0.3516 - val_accuracy: 0.8793 - lr: 0.0015\n",
            "Epoch 29/100\n",
            "31/31 [==============================] - ETA: 0s - loss: 0.4003 - accuracy: 0.8266\n",
            "Epoch 29: val_loss did not improve from 0.33296\n",
            "31/31 [==============================] - 283s 9s/step - loss: 0.4003 - accuracy: 0.8266 - val_loss: 0.3567 - val_accuracy: 0.8531 - lr: 0.0015\n",
            "Epoch 30/100\n",
            "31/31 [==============================] - ETA: 0s - loss: 0.3775 - accuracy: 0.8407\n",
            "Epoch 30: val_loss improved from 0.33296 to 0.30976, saving model to Xception_Model.hdf5\n",
            "31/31 [==============================] - 285s 9s/step - loss: 0.3775 - accuracy: 0.8407 - val_loss: 0.3098 - val_accuracy: 0.8793 - lr: 0.0015\n",
            "Epoch 31/100\n",
            "31/31 [==============================] - ETA: 0s - loss: 0.3837 - accuracy: 0.8362\n",
            "Epoch 31: val_loss improved from 0.30976 to 0.30955, saving model to Xception_Model.hdf5\n",
            "31/31 [==============================] - 288s 9s/step - loss: 0.3837 - accuracy: 0.8362 - val_loss: 0.3096 - val_accuracy: 0.8773 - lr: 0.0015\n",
            "Epoch 32/100\n",
            "31/31 [==============================] - ETA: 0s - loss: 0.3721 - accuracy: 0.8387\n",
            "Epoch 32: val_loss did not improve from 0.30955\n",
            "31/31 [==============================] - 288s 9s/step - loss: 0.3721 - accuracy: 0.8387 - val_loss: 0.3234 - val_accuracy: 0.8813 - lr: 0.0015\n",
            "Epoch 33/100\n",
            "31/31 [==============================] - ETA: 0s - loss: 0.3651 - accuracy: 0.8473\n",
            "Epoch 33: val_loss did not improve from 0.30955\n",
            "31/31 [==============================] - 288s 9s/step - loss: 0.3651 - accuracy: 0.8473 - val_loss: 0.3254 - val_accuracy: 0.8753 - lr: 0.0015\n",
            "Epoch 34/100\n",
            "31/31 [==============================] - ETA: 0s - loss: 0.3488 - accuracy: 0.8513\n",
            "Epoch 34: val_loss improved from 0.30955 to 0.30756, saving model to Xception_Model.hdf5\n",
            "31/31 [==============================] - 297s 10s/step - loss: 0.3488 - accuracy: 0.8513 - val_loss: 0.3076 - val_accuracy: 0.8833 - lr: 0.0015\n",
            "Epoch 35/100\n",
            "31/31 [==============================] - ETA: 0s - loss: 0.3625 - accuracy: 0.8417\n",
            "Epoch 35: val_loss improved from 0.30756 to 0.30203, saving model to Xception_Model.hdf5\n",
            "31/31 [==============================] - 298s 10s/step - loss: 0.3625 - accuracy: 0.8417 - val_loss: 0.3020 - val_accuracy: 0.8913 - lr: 0.0015\n",
            "Epoch 36/100\n",
            "31/31 [==============================] - ETA: 0s - loss: 0.3529 - accuracy: 0.8513\n",
            "Epoch 36: val_loss improved from 0.30203 to 0.29483, saving model to Xception_Model.hdf5\n",
            "31/31 [==============================] - 300s 10s/step - loss: 0.3529 - accuracy: 0.8513 - val_loss: 0.2948 - val_accuracy: 0.8913 - lr: 0.0015\n",
            "Epoch 37/100\n",
            "31/31 [==============================] - ETA: 0s - loss: 0.3564 - accuracy: 0.8508\n",
            "Epoch 37: val_loss improved from 0.29483 to 0.29372, saving model to Xception_Model.hdf5\n",
            "31/31 [==============================] - 300s 10s/step - loss: 0.3564 - accuracy: 0.8508 - val_loss: 0.2937 - val_accuracy: 0.8934 - lr: 0.0015\n",
            "Epoch 38/100\n",
            "31/31 [==============================] - ETA: 0s - loss: 0.3465 - accuracy: 0.8488\n",
            "Epoch 38: val_loss improved from 0.29372 to 0.28857, saving model to Xception_Model.hdf5\n",
            "31/31 [==============================] - 301s 10s/step - loss: 0.3465 - accuracy: 0.8488 - val_loss: 0.2886 - val_accuracy: 0.8913 - lr: 0.0015\n",
            "Epoch 39/100\n",
            "31/31 [==============================] - ETA: 0s - loss: 0.3379 - accuracy: 0.8508\n",
            "Epoch 39: val_loss did not improve from 0.28857\n",
            "31/31 [==============================] - 295s 10s/step - loss: 0.3379 - accuracy: 0.8508 - val_loss: 0.2924 - val_accuracy: 0.9014 - lr: 0.0015\n",
            "Epoch 40/100\n",
            "31/31 [==============================] - ETA: 0s - loss: 0.3547 - accuracy: 0.8574\n",
            "Epoch 40: val_loss did not improve from 0.28857\n",
            "31/31 [==============================] - 288s 9s/step - loss: 0.3547 - accuracy: 0.8574 - val_loss: 0.2974 - val_accuracy: 0.8974 - lr: 0.0015\n",
            "Epoch 41/100\n",
            "31/31 [==============================] - ETA: 0s - loss: 0.3477 - accuracy: 0.8453\n",
            "Epoch 41: val_loss did not improve from 0.28857\n",
            "31/31 [==============================] - 294s 10s/step - loss: 0.3477 - accuracy: 0.8453 - val_loss: 0.2936 - val_accuracy: 0.9034 - lr: 0.0015\n",
            "Epoch 42/100\n",
            "31/31 [==============================] - ETA: 0s - loss: 0.3402 - accuracy: 0.8533\n",
            "Epoch 42: val_loss did not improve from 0.28857\n",
            "31/31 [==============================] - 295s 10s/step - loss: 0.3402 - accuracy: 0.8533 - val_loss: 0.2909 - val_accuracy: 0.8994 - lr: 0.0015\n",
            "Epoch 43/100\n",
            "31/31 [==============================] - ETA: 0s - loss: 0.3330 - accuracy: 0.8584\n",
            "Epoch 43: val_loss improved from 0.28857 to 0.27452, saving model to Xception_Model.hdf5\n",
            "31/31 [==============================] - 297s 10s/step - loss: 0.3330 - accuracy: 0.8584 - val_loss: 0.2745 - val_accuracy: 0.8913 - lr: 0.0015\n",
            "Epoch 44/100\n",
            "31/31 [==============================] - ETA: 0s - loss: 0.3437 - accuracy: 0.8589\n",
            "Epoch 44: val_loss did not improve from 0.27452\n",
            "31/31 [==============================] - 296s 10s/step - loss: 0.3437 - accuracy: 0.8589 - val_loss: 0.3201 - val_accuracy: 0.8692 - lr: 0.0015\n",
            "Epoch 45/100\n",
            "31/31 [==============================] - ETA: 0s - loss: 0.3309 - accuracy: 0.8614\n",
            "Epoch 45: val_loss did not improve from 0.27452\n",
            "31/31 [==============================] - 303s 10s/step - loss: 0.3309 - accuracy: 0.8614 - val_loss: 0.4124 - val_accuracy: 0.7948 - lr: 0.0015\n",
            "Epoch 46/100\n",
            "31/31 [==============================] - ETA: 0s - loss: 0.3258 - accuracy: 0.8634\n",
            "Epoch 46: ReduceLROnPlateau reducing learning rate to 0.0010289999307133257.\n",
            "\n",
            "Epoch 46: val_loss did not improve from 0.27452\n",
            "31/31 [==============================] - 289s 9s/step - loss: 0.3258 - accuracy: 0.8634 - val_loss: 0.2768 - val_accuracy: 0.8913 - lr: 0.0015\n",
            "Epoch 47/100\n",
            "31/31 [==============================] - ETA: 0s - loss: 0.3218 - accuracy: 0.8654\n",
            "Epoch 47: val_loss improved from 0.27452 to 0.26897, saving model to Xception_Model.hdf5\n",
            "31/31 [==============================] - 300s 10s/step - loss: 0.3218 - accuracy: 0.8654 - val_loss: 0.2690 - val_accuracy: 0.8913 - lr: 0.0010\n",
            "Epoch 48/100\n",
            "31/31 [==============================] - ETA: 0s - loss: 0.3291 - accuracy: 0.8690\n",
            "Epoch 48: val_loss improved from 0.26897 to 0.25450, saving model to Xception_Model.hdf5\n",
            "31/31 [==============================] - 306s 10s/step - loss: 0.3291 - accuracy: 0.8690 - val_loss: 0.2545 - val_accuracy: 0.9095 - lr: 0.0010\n",
            "Epoch 49/100\n",
            "31/31 [==============================] - ETA: 0s - loss: 0.3140 - accuracy: 0.8755\n",
            "Epoch 49: val_loss did not improve from 0.25450\n",
            "31/31 [==============================] - 294s 9s/step - loss: 0.3140 - accuracy: 0.8755 - val_loss: 0.2582 - val_accuracy: 0.8913 - lr: 0.0010\n",
            "Epoch 50/100\n",
            "31/31 [==============================] - ETA: 0s - loss: 0.3261 - accuracy: 0.8695\n",
            "Epoch 50: val_loss did not improve from 0.25450\n",
            "31/31 [==============================] - 290s 9s/step - loss: 0.3261 - accuracy: 0.8695 - val_loss: 0.2604 - val_accuracy: 0.8954 - lr: 0.0010\n",
            "Epoch 51/100\n",
            "31/31 [==============================] - ETA: 0s - loss: 0.3159 - accuracy: 0.8715\n",
            "Epoch 51: val_loss did not improve from 0.25450\n",
            "31/31 [==============================] - 287s 9s/step - loss: 0.3159 - accuracy: 0.8715 - val_loss: 0.2613 - val_accuracy: 0.8913 - lr: 0.0010\n",
            "Epoch 52/100\n",
            "31/31 [==============================] - ETA: 0s - loss: 0.3100 - accuracy: 0.8725\n",
            "Epoch 52: val_loss did not improve from 0.25450\n",
            "31/31 [==============================] - 289s 9s/step - loss: 0.3100 - accuracy: 0.8725 - val_loss: 0.2581 - val_accuracy: 0.8974 - lr: 0.0010\n",
            "Epoch 53/100\n",
            "31/31 [==============================] - ETA: 0s - loss: 0.3267 - accuracy: 0.8725\n",
            "Epoch 53: ReduceLROnPlateau reducing learning rate to 0.0007202999433502554.\n",
            "\n",
            "Epoch 53: val_loss improved from 0.25450 to 0.25412, saving model to Xception_Model.hdf5\n",
            "31/31 [==============================] - 293s 9s/step - loss: 0.3267 - accuracy: 0.8725 - val_loss: 0.2541 - val_accuracy: 0.9095 - lr: 0.0010\n",
            "Epoch 54/100\n",
            "31/31 [==============================] - ETA: 0s - loss: 0.3214 - accuracy: 0.8574\n",
            "Epoch 54: val_loss improved from 0.25412 to 0.24865, saving model to Xception_Model.hdf5\n",
            "31/31 [==============================] - 295s 9s/step - loss: 0.3214 - accuracy: 0.8574 - val_loss: 0.2487 - val_accuracy: 0.9115 - lr: 7.2030e-04\n",
            "Epoch 55/100\n",
            "31/31 [==============================] - ETA: 0s - loss: 0.3085 - accuracy: 0.8770\n",
            "Epoch 55: val_loss did not improve from 0.24865\n",
            "31/31 [==============================] - 292s 9s/step - loss: 0.3085 - accuracy: 0.8770 - val_loss: 0.2524 - val_accuracy: 0.9135 - lr: 7.2030e-04\n",
            "Epoch 56/100\n",
            "31/31 [==============================] - ETA: 0s - loss: 0.2947 - accuracy: 0.8745\n",
            "Epoch 56: val_loss improved from 0.24865 to 0.24672, saving model to Xception_Model.hdf5\n",
            "31/31 [==============================] - 294s 10s/step - loss: 0.2947 - accuracy: 0.8745 - val_loss: 0.2467 - val_accuracy: 0.9095 - lr: 7.2030e-04\n",
            "Epoch 57/100\n",
            "31/31 [==============================] - ETA: 0s - loss: 0.3138 - accuracy: 0.8755\n",
            "Epoch 57: val_loss improved from 0.24672 to 0.24597, saving model to Xception_Model.hdf5\n",
            "31/31 [==============================] - 294s 10s/step - loss: 0.3138 - accuracy: 0.8755 - val_loss: 0.2460 - val_accuracy: 0.9155 - lr: 7.2030e-04\n",
            "Epoch 58/100\n",
            "31/31 [==============================] - ETA: 0s - loss: 0.3029 - accuracy: 0.8750\n",
            "Epoch 58: val_loss did not improve from 0.24597\n",
            "31/31 [==============================] - 297s 10s/step - loss: 0.3029 - accuracy: 0.8750 - val_loss: 0.2480 - val_accuracy: 0.9054 - lr: 7.2030e-04\n",
            "Epoch 59/100\n",
            "31/31 [==============================] - ETA: 0s - loss: 0.3062 - accuracy: 0.8780\n",
            "Epoch 59: val_loss did not improve from 0.24597\n",
            "31/31 [==============================] - 299s 10s/step - loss: 0.3062 - accuracy: 0.8780 - val_loss: 0.2506 - val_accuracy: 0.9034 - lr: 7.2030e-04\n",
            "Epoch 60/100\n",
            "31/31 [==============================] - ETA: 0s - loss: 0.3236 - accuracy: 0.8705\n",
            "Epoch 60: val_loss did not improve from 0.24597\n",
            "31/31 [==============================] - 295s 9s/step - loss: 0.3236 - accuracy: 0.8705 - val_loss: 0.2482 - val_accuracy: 0.9074 - lr: 7.2030e-04\n",
            "Epoch 61/100\n",
            "31/31 [==============================] - ETA: 0s - loss: 0.3053 - accuracy: 0.8740\n",
            "Epoch 61: val_loss did not improve from 0.24597\n",
            "31/31 [==============================] - 293s 9s/step - loss: 0.3053 - accuracy: 0.8740 - val_loss: 0.2596 - val_accuracy: 0.9034 - lr: 7.2030e-04\n",
            "Epoch 62/100\n",
            "31/31 [==============================] - ETA: 0s - loss: 0.3026 - accuracy: 0.8785\n",
            "Epoch 62: ReduceLROnPlateau reducing learning rate to 0.0005042099684942513.\n",
            "\n",
            "Epoch 62: val_loss did not improve from 0.24597\n",
            "31/31 [==============================] - 292s 9s/step - loss: 0.3026 - accuracy: 0.8785 - val_loss: 0.2688 - val_accuracy: 0.9074 - lr: 7.2030e-04\n",
            "Epoch 63/100\n",
            "31/31 [==============================] - ETA: 0s - loss: 0.3025 - accuracy: 0.8730\n",
            "Epoch 63: val_loss did not improve from 0.24597\n",
            "31/31 [==============================] - 287s 9s/step - loss: 0.3025 - accuracy: 0.8730 - val_loss: 0.2677 - val_accuracy: 0.9074 - lr: 5.0421e-04\n",
            "Epoch 64/100\n",
            "31/31 [==============================] - ETA: 0s - loss: 0.3071 - accuracy: 0.8760\n",
            "Epoch 64: val_loss did not improve from 0.24597\n",
            "31/31 [==============================] - 287s 9s/step - loss: 0.3071 - accuracy: 0.8760 - val_loss: 0.2585 - val_accuracy: 0.9054 - lr: 5.0421e-04\n",
            "Epoch 65/100\n",
            "31/31 [==============================] - ETA: 0s - loss: 0.2968 - accuracy: 0.8810\n",
            "Epoch 65: val_loss did not improve from 0.24597\n",
            "31/31 [==============================] - 288s 9s/step - loss: 0.2968 - accuracy: 0.8810 - val_loss: 0.2515 - val_accuracy: 0.9034 - lr: 5.0421e-04\n",
            "Epoch 66/100\n",
            "31/31 [==============================] - ETA: 0s - loss: 0.3048 - accuracy: 0.8765\n",
            "Epoch 66: val_loss improved from 0.24597 to 0.24591, saving model to Xception_Model.hdf5\n",
            "31/31 [==============================] - 311s 10s/step - loss: 0.3048 - accuracy: 0.8765 - val_loss: 0.2459 - val_accuracy: 0.9095 - lr: 5.0421e-04\n",
            "Epoch 67/100\n",
            "31/31 [==============================] - ETA: 0s - loss: 0.3186 - accuracy: 0.8700 \n",
            "Epoch 67: ReduceLROnPlateau reducing learning rate to 0.0003529469657223671.\n",
            "\n",
            "Epoch 67: val_loss did not improve from 0.24591\n",
            "31/31 [==============================] - 338s 11s/step - loss: 0.3186 - accuracy: 0.8700 - val_loss: 0.2504 - val_accuracy: 0.9095 - lr: 5.0421e-04\n",
            "Epoch 68/100\n",
            "31/31 [==============================] - ETA: 0s - loss: 0.3111 - accuracy: 0.8674 \n",
            "Epoch 68: val_loss did not improve from 0.24591\n",
            "31/31 [==============================] - 339s 11s/step - loss: 0.3111 - accuracy: 0.8674 - val_loss: 0.2533 - val_accuracy: 0.9054 - lr: 3.5295e-04\n",
            "Epoch 69/100\n",
            "31/31 [==============================] - ETA: 0s - loss: 0.3074 - accuracy: 0.8770 \n",
            "Epoch 69: val_loss did not improve from 0.24591\n",
            "31/31 [==============================] - 338s 11s/step - loss: 0.3074 - accuracy: 0.8770 - val_loss: 0.2593 - val_accuracy: 0.8974 - lr: 3.5295e-04\n",
            "Epoch 70/100\n",
            "31/31 [==============================] - ETA: 0s - loss: 0.2946 - accuracy: 0.8780 \n",
            "Epoch 70: val_loss did not improve from 0.24591\n",
            "31/31 [==============================] - 339s 11s/step - loss: 0.2946 - accuracy: 0.8780 - val_loss: 0.2563 - val_accuracy: 0.9014 - lr: 3.5295e-04\n",
            "Epoch 71/100\n",
            "31/31 [==============================] - ETA: 0s - loss: 0.3123 - accuracy: 0.8740\n",
            "Epoch 71: val_loss did not improve from 0.24591\n",
            "31/31 [==============================] - 281s 9s/step - loss: 0.3123 - accuracy: 0.8740 - val_loss: 0.2547 - val_accuracy: 0.9014 - lr: 3.5295e-04\n",
            "Epoch 72/100\n",
            "31/31 [==============================] - ETA: 0s - loss: 0.3075 - accuracy: 0.8695\n",
            "Epoch 72: ReduceLROnPlateau reducing learning rate to 0.0002470628678565845.\n",
            "\n",
            "Epoch 72: val_loss did not improve from 0.24591\n",
            "31/31 [==============================] - 278s 9s/step - loss: 0.3075 - accuracy: 0.8695 - val_loss: 0.2485 - val_accuracy: 0.9034 - lr: 3.5295e-04\n",
            "Epoch 73/100\n",
            "31/31 [==============================] - ETA: 0s - loss: 0.2992 - accuracy: 0.8740\n",
            "Epoch 73: val_loss did not improve from 0.24591\n",
            "31/31 [==============================] - 278s 9s/step - loss: 0.2992 - accuracy: 0.8740 - val_loss: 0.2534 - val_accuracy: 0.9034 - lr: 2.4706e-04\n",
            "Epoch 74/100\n",
            "31/31 [==============================] - ETA: 0s - loss: 0.3059 - accuracy: 0.8755\n",
            "Epoch 74: val_loss did not improve from 0.24591\n",
            "31/31 [==============================] - 282s 9s/step - loss: 0.3059 - accuracy: 0.8755 - val_loss: 0.2520 - val_accuracy: 0.9135 - lr: 2.4706e-04\n",
            "Epoch 75/100\n",
            "31/31 [==============================] - ETA: 0s - loss: 0.2982 - accuracy: 0.8800\n",
            "Epoch 75: val_loss did not improve from 0.24591\n",
            "31/31 [==============================] - 280s 9s/step - loss: 0.2982 - accuracy: 0.8800 - val_loss: 0.2558 - val_accuracy: 0.8994 - lr: 2.4706e-04\n",
            "Epoch 76/100\n",
            "31/31 [==============================] - ETA: 0s - loss: 0.2983 - accuracy: 0.8745\n",
            "Epoch 76: val_loss did not improve from 0.24591\n",
            "31/31 [==============================] - 277s 9s/step - loss: 0.2983 - accuracy: 0.8745 - val_loss: 0.2639 - val_accuracy: 0.8934 - lr: 2.4706e-04\n",
            "Epoch 77/100\n",
            "31/31 [==============================] - ETA: 0s - loss: 0.3084 - accuracy: 0.8760\n",
            "Epoch 77: ReduceLROnPlateau reducing learning rate to 0.00017294401768594978.\n",
            "\n",
            "Epoch 77: val_loss did not improve from 0.24591\n",
            "31/31 [==============================] - 272s 9s/step - loss: 0.3084 - accuracy: 0.8760 - val_loss: 0.2659 - val_accuracy: 0.8913 - lr: 2.4706e-04\n",
            "Epoch 78/100\n",
            "31/31 [==============================] - ETA: 0s - loss: 0.3001 - accuracy: 0.8735\n",
            "Epoch 78: val_loss did not improve from 0.24591\n",
            "31/31 [==============================] - 284s 9s/step - loss: 0.3001 - accuracy: 0.8735 - val_loss: 0.2604 - val_accuracy: 0.8934 - lr: 1.7294e-04\n",
            "Epoch 79/100\n",
            "31/31 [==============================] - ETA: 0s - loss: 0.2987 - accuracy: 0.8765\n",
            "Epoch 79: val_loss did not improve from 0.24591\n",
            "31/31 [==============================] - 283s 9s/step - loss: 0.2987 - accuracy: 0.8765 - val_loss: 0.2579 - val_accuracy: 0.8954 - lr: 1.7294e-04\n",
            "Epoch 80/100\n",
            "31/31 [==============================] - ETA: 0s - loss: 0.3109 - accuracy: 0.8720\n",
            "Epoch 80: val_loss did not improve from 0.24591\n",
            "31/31 [==============================] - 288s 9s/step - loss: 0.3109 - accuracy: 0.8720 - val_loss: 0.2557 - val_accuracy: 0.8994 - lr: 1.7294e-04\n",
            "Epoch 81/100\n",
            "31/31 [==============================] - ETA: 0s - loss: 0.3210 - accuracy: 0.8695\n",
            "Epoch 81: val_loss did not improve from 0.24591\n",
            "31/31 [==============================] - 297s 10s/step - loss: 0.3210 - accuracy: 0.8695 - val_loss: 0.2524 - val_accuracy: 0.9074 - lr: 1.7294e-04\n",
            "Epoch 82/100\n",
            "31/31 [==============================] - ETA: 0s - loss: 0.2940 - accuracy: 0.8821\n",
            "Epoch 82: ReduceLROnPlateau reducing learning rate to 0.00012106080830562859.\n",
            "\n",
            "Epoch 82: val_loss did not improve from 0.24591\n",
            "31/31 [==============================] - 289s 9s/step - loss: 0.2940 - accuracy: 0.8821 - val_loss: 0.2534 - val_accuracy: 0.8974 - lr: 1.7294e-04\n",
            "Epoch 83/100\n",
            "31/31 [==============================] - ETA: 0s - loss: 0.3045 - accuracy: 0.8690\n",
            "Epoch 83: val_loss did not improve from 0.24591\n",
            "31/31 [==============================] - 284s 9s/step - loss: 0.3045 - accuracy: 0.8690 - val_loss: 0.2536 - val_accuracy: 0.8974 - lr: 1.2106e-04\n",
            "Epoch 84/100\n",
            "31/31 [==============================] - ETA: 0s - loss: 0.2901 - accuracy: 0.8846\n",
            "Epoch 84: val_loss did not improve from 0.24591\n",
            "31/31 [==============================] - 287s 9s/step - loss: 0.2901 - accuracy: 0.8846 - val_loss: 0.2526 - val_accuracy: 0.8954 - lr: 1.2106e-04\n",
            "Epoch 85/100\n",
            "31/31 [==============================] - ETA: 0s - loss: 0.2938 - accuracy: 0.8770\n",
            "Epoch 85: val_loss did not improve from 0.24591\n",
            "31/31 [==============================] - 290s 9s/step - loss: 0.2938 - accuracy: 0.8770 - val_loss: 0.2539 - val_accuracy: 0.8974 - lr: 1.2106e-04\n",
            "Epoch 86/100\n",
            "31/31 [==============================] - ETA: 0s - loss: 0.2982 - accuracy: 0.8765\n",
            "Epoch 86: val_loss did not improve from 0.24591\n",
            "31/31 [==============================] - 284s 9s/step - loss: 0.2982 - accuracy: 0.8765 - val_loss: 0.2600 - val_accuracy: 0.8954 - lr: 1.2106e-04\n",
            "Epoch 87/100\n",
            "31/31 [==============================] - ETA: 0s - loss: 0.2926 - accuracy: 0.8790\n",
            "Epoch 87: ReduceLROnPlateau reducing learning rate to 0.0001.\n",
            "\n",
            "Epoch 87: val_loss did not improve from 0.24591\n",
            "31/31 [==============================] - 286s 9s/step - loss: 0.2926 - accuracy: 0.8790 - val_loss: 0.2581 - val_accuracy: 0.8954 - lr: 1.2106e-04\n",
            "Epoch 88/100\n",
            "31/31 [==============================] - ETA: 0s - loss: 0.3033 - accuracy: 0.8750\n",
            "Epoch 88: val_loss did not improve from 0.24591\n",
            "31/31 [==============================] - 280s 9s/step - loss: 0.3033 - accuracy: 0.8750 - val_loss: 0.2593 - val_accuracy: 0.8974 - lr: 1.0000e-04\n",
            "Epoch 89/100\n",
            "31/31 [==============================] - ETA: 0s - loss: 0.3011 - accuracy: 0.8790\n",
            "Epoch 89: val_loss did not improve from 0.24591\n",
            "31/31 [==============================] - 285s 9s/step - loss: 0.3011 - accuracy: 0.8790 - val_loss: 0.2575 - val_accuracy: 0.8974 - lr: 1.0000e-04\n",
            "Epoch 90/100\n",
            "31/31 [==============================] - ETA: 0s - loss: 0.2980 - accuracy: 0.8861\n",
            "Epoch 90: val_loss did not improve from 0.24591\n",
            "31/31 [==============================] - 289s 9s/step - loss: 0.2980 - accuracy: 0.8861 - val_loss: 0.2575 - val_accuracy: 0.8994 - lr: 1.0000e-04\n",
            "Epoch 91/100\n",
            "31/31 [==============================] - ETA: 0s - loss: 0.2912 - accuracy: 0.8856\n",
            "Epoch 91: val_loss did not improve from 0.24591\n",
            "31/31 [==============================] - 293s 9s/step - loss: 0.2912 - accuracy: 0.8856 - val_loss: 0.2581 - val_accuracy: 0.9034 - lr: 1.0000e-04\n",
            "Epoch 92/100\n",
            "31/31 [==============================] - ETA: 0s - loss: 0.2970 - accuracy: 0.8735\n",
            "Epoch 92: val_loss did not improve from 0.24591\n",
            "31/31 [==============================] - 288s 9s/step - loss: 0.2970 - accuracy: 0.8735 - val_loss: 0.2579 - val_accuracy: 0.8974 - lr: 1.0000e-04\n",
            "Epoch 93/100\n",
            "31/31 [==============================] - ETA: 0s - loss: 0.3076 - accuracy: 0.8720\n",
            "Epoch 93: val_loss did not improve from 0.24591\n",
            "31/31 [==============================] - 289s 9s/step - loss: 0.3076 - accuracy: 0.8720 - val_loss: 0.2589 - val_accuracy: 0.8994 - lr: 1.0000e-04\n",
            "Epoch 94/100\n",
            "31/31 [==============================] - ETA: 0s - loss: 0.3008 - accuracy: 0.8790\n",
            "Epoch 94: val_loss did not improve from 0.24591\n",
            "31/31 [==============================] - 289s 9s/step - loss: 0.3008 - accuracy: 0.8790 - val_loss: 0.2599 - val_accuracy: 0.8994 - lr: 1.0000e-04\n",
            "Epoch 95/100\n",
            "31/31 [==============================] - ETA: 0s - loss: 0.2850 - accuracy: 0.8805\n",
            "Epoch 95: val_loss did not improve from 0.24591\n",
            "31/31 [==============================] - 291s 9s/step - loss: 0.2850 - accuracy: 0.8805 - val_loss: 0.2598 - val_accuracy: 0.8974 - lr: 1.0000e-04\n",
            "Epoch 96/100\n",
            "31/31 [==============================] - ETA: 0s - loss: 0.2894 - accuracy: 0.8810\n",
            "Epoch 96: val_loss did not improve from 0.24591\n",
            "31/31 [==============================] - 298s 10s/step - loss: 0.2894 - accuracy: 0.8810 - val_loss: 0.2590 - val_accuracy: 0.8934 - lr: 1.0000e-04\n",
            "Epoch 97/100\n",
            "31/31 [==============================] - ETA: 0s - loss: 0.2837 - accuracy: 0.8846\n",
            "Epoch 97: val_loss did not improve from 0.24591\n",
            "31/31 [==============================] - 290s 9s/step - loss: 0.2837 - accuracy: 0.8846 - val_loss: 0.2576 - val_accuracy: 0.8954 - lr: 1.0000e-04\n",
            "Epoch 98/100\n",
            "31/31 [==============================] - ETA: 0s - loss: 0.2950 - accuracy: 0.8780\n",
            "Epoch 98: val_loss did not improve from 0.24591\n",
            "31/31 [==============================] - 288s 9s/step - loss: 0.2950 - accuracy: 0.8780 - val_loss: 0.2569 - val_accuracy: 0.9014 - lr: 1.0000e-04\n",
            "Epoch 99/100\n",
            "31/31 [==============================] - ETA: 0s - loss: 0.2895 - accuracy: 0.8750\n",
            "Epoch 99: val_loss did not improve from 0.24591\n",
            "31/31 [==============================] - 287s 9s/step - loss: 0.2895 - accuracy: 0.8750 - val_loss: 0.2580 - val_accuracy: 0.8974 - lr: 1.0000e-04\n",
            "Epoch 100/100\n",
            "31/31 [==============================] - ETA: 0s - loss: 0.2953 - accuracy: 0.8810\n",
            "Epoch 100: val_loss did not improve from 0.24591\n",
            "31/31 [==============================] - 296s 10s/step - loss: 0.2953 - accuracy: 0.8810 - val_loss: 0.2587 - val_accuracy: 0.8974 - lr: 1.0000e-04\n"
          ]
        }
      ]
    },
    {
      "cell_type": "code",
      "source": [
        "acc = history.history['accuracy']\n",
        "val_acc = history.history['val_accuracy']\n",
        "loss = history.history['loss']\n",
        "val_loss = history.history['val_loss']"
      ],
      "metadata": {
        "id": "7M_C1pCFHTWF"
      },
      "execution_count": null,
      "outputs": []
    },
    {
      "cell_type": "code",
      "source": [
        "epochs = range(len(acc))\n",
        "plt.plot(epochs, acc, 'r', label='Training accuracy')\n",
        "plt.plot(epochs, val_acc, 'b', label='Validation accuracy')\n",
        "plt.title('TraiN & Val Acc VS Epochs')\n",
        "plt.legend(loc=0)\n",
        "plt.figure()\n",
        "plt.show()"
      ],
      "metadata": {
        "colab": {
          "base_uri": "https://localhost:8080/",
          "height": 298
        },
        "id": "dwdlMf0PHXAQ",
        "outputId": "46407e2c-ce6c-4575-8233-34afd86e5fe6"
      },
      "execution_count": null,
      "outputs": [
        {
          "output_type": "display_data",
          "data": {
            "text/plain": [
              "<Figure size 432x288 with 1 Axes>"
            ],
            "image/png": "[encoded data removed]"
          },
          "metadata": {
            "needs_background": "light"
          }
        },
        {
          "output_type": "display_data",
          "data": {
            "text/plain": [
              "<Figure size 432x288 with 0 Axes>"
            ]
          },
          "metadata": {}
        }
      ]
    },
    {
      "cell_type": "code",
      "source": [
        "epochs = range(len(acc))\n",
        "plt.plot(epochs, loss, 'r', label='Training Loss')\n",
        "plt.plot(epochs, val_loss, 'b', label='Validation Loss')\n",
        "plt.title('TraiN & Val Loss VS Epochs')\n",
        "plt.legend(loc=0)\n",
        "plt.figure()\n",
        "plt.show()"
      ],
      "metadata": {
        "colab": {
          "base_uri": "https://localhost:8080/",
          "height": 298
        },
        "id": "oeM-0wDPHaxe",
        "outputId": "c319a7d3-b65e-4212-9158-edc1d4d9a1cc"
      },
      "execution_count": null,
      "outputs": [
        {
          "output_type": "display_data",
          "data": {
            "text/plain": [
              "<Figure size 432x288 with 1 Axes>"
            ],
            "image/png": "[encoded data removed]"
          },
          "metadata": {
            "needs_background": "light"
          }
        },
        {
          "output_type": "display_data",
          "data": {
            "text/plain": [
              "<Figure size 432x288 with 0 Axes>"
            ]
          },
          "metadata": {}
        }
      ]
    },
    {
      "cell_type": "code",
      "source": [
        "model.load_weights(\"Xception_Model.hdf5\")\n",
        "score = model.evaluate(X_val, Y_val ,verbose=1)\n",
        "print('Test Loss:', score[0])\n",
        "print('Test accuracy:', score[1]*100)"
      ],
      "metadata": {
        "colab": {
          "base_uri": "https://localhost:8080/"
        },
        "id": "_158BFR4Hf31",
        "outputId": "7721b627-3820-4649-fa40-fc99730a4beb"
      },
      "execution_count": null,
      "outputs": [
        {
          "output_type": "stream",
          "name": "stdout",
          "text": [
            "16/16 [==============================] - 9s 571ms/step - loss: 0.2459 - accuracy: 0.9095\n",
            "Test Loss: 0.24591217935085297\n",
            "Test accuracy: 90.9456729888916\n"
          ]
        }
      ]
    },
    {
      "cell_type": "code",
      "source": [
        "Y_pred = model.predict(X_val)\n",
        "Y_predx = np.argmax(Y_pred, axis = -1)\n",
        "Y_valx = np.argmax(Y_val, axis = -1)\n",
        "cf_matrix = confusion_matrix(Y_valx, Y_predx)\n",
        "group_names = ['True Neg','False Pos','False Neg','True Pos']\n",
        "group_counts = [\"{0:0.0f}\".format(value) for value in\n",
        "                cf_matrix.flatten()]\n",
        "group_percentages = [\"{0:.2%}\".format(value) for value in\n",
        "                     cf_matrix.flatten()/np.sum(cf_matrix)]\n",
        "labels = [f\"{v1}\\n{v2}\\n{v3}\" for v1, v2, v3 in\n",
        "          zip(group_names,group_counts,group_percentages)]\n",
        "labels = np.asarray(labels).reshape(2,2)\n",
        "sns.heatmap(cf_matrix, annot = labels, fmt = '')\n",
        "plt.title(\"Confusion Matrix\")"
      ],
      "metadata": {
        "id": "KPMviVNyHqqS",
        "outputId": "6b896160-4b84-487d-e320-908475efec13",
        "colab": {
          "base_uri": "https://localhost:8080/",
          "height": 316
        }
      },
      "execution_count": null,
      "outputs": [
        {
          "output_type": "stream",
          "name": "stdout",
          "text": [
            "16/16 [==============================] - 12s 563ms/step\n"
          ]
        },
        {
          "output_type": "execute_result",
          "data": {
            "text/plain": [
              "Text(0.5, 1.0, 'Confusion Matrix')"
            ]
          },
          "metadata": {},
          "execution_count": 27
        },
        {
          "output_type": "display_data",
          "data": {
            "text/plain": [
              "<Figure size 432x288 with 2 Axes>"
            ],
            "image/png": "[encoded data removed]"
          },
          "metadata": {
            "needs_background": "light"
          }
        }
      ]
    }
  ]
}